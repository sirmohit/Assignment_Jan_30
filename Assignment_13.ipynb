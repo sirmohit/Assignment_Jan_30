{
 "cells": [
  {
   "cell_type": "markdown",
   "id": "fbe28444",
   "metadata": {},
   "source": [
    "1. Write a program to accept percentage from the user and display the grade according to the following \n",
    "criteria: marks >90  grade A if marks are >80 and <=90 grade B if marks >=60 and <=80 grade C below 60 grade D\n",
    "\n",
    "\n",
    "\n"
   ]
  },
  {
   "cell_type": "code",
   "execution_count": 1,
   "id": "18ae6e48",
   "metadata": {},
   "outputs": [
    {
     "name": "stdout",
     "output_type": "stream",
     "text": [
      "15\n",
      "D\n"
     ]
    }
   ],
   "source": [
    "percentage = int(input())\n",
    "if percentage >90:\n",
    "    print('A')\n",
    "elif percentage >80 and percentage <=90:\n",
    "    print('B')\n",
    "elif percentage >=60 and percentage <=80:\n",
    "    print('C')\n",
    "else:\n",
    "    print('D')"
   ]
  },
  {
   "cell_type": "markdown",
   "id": "803bc1ca",
   "metadata": {},
   "source": [
    "'''2. Write a program to accept the cost price of a bike and display the road tax to be\n",
    "paid according to the following criteria:cost price is greater than 100000 tax is 15%, if \n",
    "cost price is greater than 50000 and less than equal to 100000 tax is 10% and if cost price is less equal to 50000 tax is 5%.\n",
    "'''\n",
    "    \n"
   ]
  },
  {
   "cell_type": "code",
   "execution_count": 2,
   "id": "df317317",
   "metadata": {},
   "outputs": [
    {
     "name": "stdout",
     "output_type": "stream",
     "text": [
      "100000\n",
      "10000.0\n"
     ]
    }
   ],
   "source": [
    "cost_price = int(input())\n",
    "if cost_price>100000:\n",
    "    print(cost_price*0.15)\n",
    "elif cost_price>50000 and cost_price<=100000:\n",
    "    print(cost_price * 0.10)\n",
    "elif cost_price <=50000:\n",
    "    print(cost_price*0.05)\n"
   ]
  },
  {
   "cell_type": "markdown",
   "id": "cfacd1ec",
   "metadata": {},
   "source": [
    "'''3. Accept any city from the user and display monuments of that city according to the given details: \n",
    "  if city is Delhi then monument is RedFort ,if city is Agra then monument is Taj Mahal if city is Jaipur then monument\n",
    "  is Jal Mahal.'''\n"
   ]
  },
  {
   "cell_type": "code",
   "execution_count": 3,
   "id": "6fc6c0e4",
   "metadata": {},
   "outputs": [
    {
     "name": "stdout",
     "output_type": "stream",
     "text": [
      "Delhi\n",
      "Red Fort\n"
     ]
    }
   ],
   "source": [
    "city = input()\n",
    "if city == \"Delhi\":\n",
    "    print(\"Red Fort\")\n",
    "elif city == \"Agra\":\n",
    "    print(\"Taj Mahal\")\n",
    "elif city == \"Jaipur\":\n",
    "    print(\"Jal Mahal\")"
   ]
  },
  {
   "cell_type": "markdown",
   "id": "b6099797",
   "metadata": {},
   "source": [
    "'''4. Check how many times a given number can be divided by 3 before it is less than or equal to 10. \n",
    "'''\n",
    "\n",
    "        \n"
   ]
  },
  {
   "cell_type": "code",
   "execution_count": 4,
   "id": "e394928a",
   "metadata": {},
   "outputs": [
    {
     "name": "stdout",
     "output_type": "stream",
     "text": [
      "6\n",
      "1\n"
     ]
    }
   ],
   "source": [
    "nums = int(input())\n",
    "count = 0\n",
    "if nums <=10:\n",
    "    if nums % 3 == 0:\n",
    "        count = count + 1\n",
    "    nums = nums+ 1\n",
    "print(count)"
   ]
  },
  {
   "cell_type": "markdown",
   "id": "d4919adb",
   "metadata": {},
   "source": [
    "'''5. Why and When to Use while Loop in Python give a detailed description with example \n",
    "Ans: A ‘While Loop’ is a control flow statement in python.It keeps executing the task until it satisfies.\n",
    "When to use While Loop:\n",
    "a)Unknown number of iterations\n",
    "b)Iterate Until a condition is met\n",
    "c)Continuous Input Processing\n",
    "d)Task Monitoring\n",
    "Example'''\n"
   ]
  },
  {
   "cell_type": "code",
   "execution_count": 5,
   "id": "2b803040",
   "metadata": {},
   "outputs": [
    {
     "name": "stdout",
     "output_type": "stream",
     "text": [
      "Current number: 50\n",
      "Current number: 45\n",
      "Current number: 40\n",
      "Current number: 35\n",
      "Current number: 30\n",
      "Current number: 25\n",
      "Current number: 20\n",
      "Current number: 15\n",
      "Current number: 10\n",
      "Current number: 5\n",
      "Loop ended. The number is now less than or equal to 0.\n"
     ]
    }
   ],
   "source": [
    "number = 50\n",
    "# Keep subtracting 5 from the number until it becomes less than or equal to 0\n",
    "while number > 0:\n",
    "    print(f\"Current number: {number}\")\n",
    "    number -= 5\n",
    "print(\"Loop ended. The number is now less than or equal to 0.\")\n",
    "\n"
   ]
  },
  {
   "cell_type": "code",
   "execution_count": 9,
   "id": "2480679a",
   "metadata": {},
   "outputs": [
    {
     "name": "stdout",
     "output_type": "stream",
     "text": [
      "Pattern 1:\n",
      "*\n",
      "**\n",
      "***\n",
      "****\n",
      "*****\n"
     ]
    }
   ],
   "source": [
    "#6. Use nested while loop to print 3 different pattern. \n",
    "#Ans:\n",
    "#Pattern 1\n",
    "print(\"Pattern 1:\")\n",
    "i = 1\n",
    "while i <= 5:\n",
    "    j = 1\n",
    "    while j <= i:\n",
    "        print(\"*\", end=\"\")\n",
    "        j += 1\n",
    "    print()\n",
    "    i += 1\n",
    "\n",
    "\n",
    "\n",
    "\n",
    "\n",
    "\n"
   ]
  },
  {
   "cell_type": "code",
   "execution_count": 2,
   "id": "735d50a5",
   "metadata": {},
   "outputs": [
    {
     "name": "stdout",
     "output_type": "stream",
     "text": [
      "*****\n",
      "****\n",
      "***\n",
      "**\n",
      "*\n"
     ]
    }
   ],
   "source": [
    "#Pattern 2\n",
    "i = 5\n",
    "while i >= 1:\n",
    "    j = 1\n",
    "    while j <= i:\n",
    "        print(\"*\", end=\"\")\n",
    "        j += 1\n",
    "    print()\n",
    "    i -= 1"
   ]
  },
  {
   "cell_type": "code",
   "execution_count": 3,
   "id": "d19a7791",
   "metadata": {},
   "outputs": [
    {
     "name": "stdout",
     "output_type": "stream",
     "text": [
      "\n",
      "Pattern 3:\n",
      "    *\n",
      "   **\n",
      "  ***\n",
      " ****\n",
      "*****\n"
     ]
    }
   ],
   "source": [
    "#Pattern 3\n",
    "print(\"\\nPattern 3:\")\n",
    "i = 1\n",
    "while i <= 5:\n",
    "    j = 5\n",
    "    while j >= 1:\n",
    "        if j > i:\n",
    "            print(\" \", end=\"\")\n",
    "        else:\n",
    "            print(\"*\", end=\"\")\n",
    "        j -= 1\n",
    "    print()\n",
    "    i += 1\n"
   ]
  },
  {
   "cell_type": "code",
   "execution_count": 6,
   "id": "52a418d2",
   "metadata": {},
   "outputs": [
    {
     "name": "stdout",
     "output_type": "stream",
     "text": [
      "10\n",
      "9\n",
      "8\n",
      "7\n",
      "6\n",
      "5\n",
      "4\n",
      "3\n",
      "2\n",
      "1\n"
     ]
    }
   ],
   "source": [
    "#7. Reverse a while loop to display numbers from 10 to 1. \n",
    "#Ans:\n",
    "number = 10\n",
    "while number >= 1:\n",
    "    print(number)\n",
    "    number -= 1\n"
   ]
  },
  {
   "cell_type": "code",
   "execution_count": null,
   "id": "72bb97a1",
   "metadata": {},
   "outputs": [],
   "source": []
  }
 ],
 "metadata": {
  "kernelspec": {
   "display_name": "Python 3 (ipykernel)",
   "language": "python",
   "name": "python3"
  },
  "language_info": {
   "codemirror_mode": {
    "name": "ipython",
    "version": 3
   },
   "file_extension": ".py",
   "mimetype": "text/x-python",
   "name": "python",
   "nbconvert_exporter": "python",
   "pygments_lexer": "ipython3",
   "version": "3.9.13"
  }
 },
 "nbformat": 4,
 "nbformat_minor": 5
}
